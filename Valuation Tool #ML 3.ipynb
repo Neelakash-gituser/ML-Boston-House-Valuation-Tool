{
 "cells": [
  {
   "cell_type": "markdown",
   "metadata": {},
   "source": [
    "# Valuation Tool "
   ]
  },
  {
   "cell_type": "code",
   "execution_count": 69,
   "metadata": {},
   "outputs": [],
   "source": [
    "from sklearn.datasets import load_boston\n",
    "from sklearn.metrics import mean_squared_error\n",
    "from sklearn.linear_model import LinearRegression\n",
    "import pandas as pd\n",
    "import numpy as np"
   ]
  },
  {
   "cell_type": "code",
   "execution_count": 70,
   "metadata": {},
   "outputs": [],
   "source": [
    "data = load_boston()\n",
    "boston_data = pd.DataFrame(data=data.data, columns=data.feature_names)\n",
    "boston_data['PRICE'] = data.target\n",
    "bos_feature = pd.DataFrame(data=data.data, columns=data.feature_names)"
   ]
  },
  {
   "cell_type": "code",
   "execution_count": 71,
   "metadata": {},
   "outputs": [],
   "source": [
    "# But in our analysis we found that INDUS and AGE are not desirable .\n",
    "bos_feature = bos_feature.drop(['INDUS', 'AGE'], axis=1)"
   ]
  },
  {
   "cell_type": "code",
   "execution_count": 72,
   "metadata": {},
   "outputs": [
    {
     "data": {
      "text/html": [
       "<div>\n",
       "<style scoped>\n",
       "    .dataframe tbody tr th:only-of-type {\n",
       "        vertical-align: middle;\n",
       "    }\n",
       "\n",
       "    .dataframe tbody tr th {\n",
       "        vertical-align: top;\n",
       "    }\n",
       "\n",
       "    .dataframe thead th {\n",
       "        text-align: right;\n",
       "    }\n",
       "</style>\n",
       "<table border=\"1\" class=\"dataframe\">\n",
       "  <thead>\n",
       "    <tr style=\"text-align: right;\">\n",
       "      <th></th>\n",
       "      <th>CRIM</th>\n",
       "      <th>ZN</th>\n",
       "      <th>CHAS</th>\n",
       "      <th>NOX</th>\n",
       "      <th>RM</th>\n",
       "      <th>DIS</th>\n",
       "      <th>RAD</th>\n",
       "      <th>TAX</th>\n",
       "      <th>PTRATIO</th>\n",
       "      <th>B</th>\n",
       "      <th>LSTAT</th>\n",
       "    </tr>\n",
       "  </thead>\n",
       "  <tbody>\n",
       "    <tr>\n",
       "      <th>0</th>\n",
       "      <td>0.00632</td>\n",
       "      <td>18.0</td>\n",
       "      <td>0.0</td>\n",
       "      <td>0.538</td>\n",
       "      <td>6.575</td>\n",
       "      <td>4.0900</td>\n",
       "      <td>1.0</td>\n",
       "      <td>296.0</td>\n",
       "      <td>15.3</td>\n",
       "      <td>396.90</td>\n",
       "      <td>4.98</td>\n",
       "    </tr>\n",
       "    <tr>\n",
       "      <th>1</th>\n",
       "      <td>0.02731</td>\n",
       "      <td>0.0</td>\n",
       "      <td>0.0</td>\n",
       "      <td>0.469</td>\n",
       "      <td>6.421</td>\n",
       "      <td>4.9671</td>\n",
       "      <td>2.0</td>\n",
       "      <td>242.0</td>\n",
       "      <td>17.8</td>\n",
       "      <td>396.90</td>\n",
       "      <td>9.14</td>\n",
       "    </tr>\n",
       "    <tr>\n",
       "      <th>2</th>\n",
       "      <td>0.02729</td>\n",
       "      <td>0.0</td>\n",
       "      <td>0.0</td>\n",
       "      <td>0.469</td>\n",
       "      <td>7.185</td>\n",
       "      <td>4.9671</td>\n",
       "      <td>2.0</td>\n",
       "      <td>242.0</td>\n",
       "      <td>17.8</td>\n",
       "      <td>392.83</td>\n",
       "      <td>4.03</td>\n",
       "    </tr>\n",
       "    <tr>\n",
       "      <th>3</th>\n",
       "      <td>0.03237</td>\n",
       "      <td>0.0</td>\n",
       "      <td>0.0</td>\n",
       "      <td>0.458</td>\n",
       "      <td>6.998</td>\n",
       "      <td>6.0622</td>\n",
       "      <td>3.0</td>\n",
       "      <td>222.0</td>\n",
       "      <td>18.7</td>\n",
       "      <td>394.63</td>\n",
       "      <td>2.94</td>\n",
       "    </tr>\n",
       "    <tr>\n",
       "      <th>4</th>\n",
       "      <td>0.06905</td>\n",
       "      <td>0.0</td>\n",
       "      <td>0.0</td>\n",
       "      <td>0.458</td>\n",
       "      <td>7.147</td>\n",
       "      <td>6.0622</td>\n",
       "      <td>3.0</td>\n",
       "      <td>222.0</td>\n",
       "      <td>18.7</td>\n",
       "      <td>396.90</td>\n",
       "      <td>5.33</td>\n",
       "    </tr>\n",
       "  </tbody>\n",
       "</table>\n",
       "</div>"
      ],
      "text/plain": [
       "      CRIM    ZN  CHAS    NOX     RM     DIS  RAD    TAX  PTRATIO       B  \\\n",
       "0  0.00632  18.0   0.0  0.538  6.575  4.0900  1.0  296.0     15.3  396.90   \n",
       "1  0.02731   0.0   0.0  0.469  6.421  4.9671  2.0  242.0     17.8  396.90   \n",
       "2  0.02729   0.0   0.0  0.469  7.185  4.9671  2.0  242.0     17.8  392.83   \n",
       "3  0.03237   0.0   0.0  0.458  6.998  6.0622  3.0  222.0     18.7  394.63   \n",
       "4  0.06905   0.0   0.0  0.458  7.147  6.0622  3.0  222.0     18.7  396.90   \n",
       "\n",
       "   LSTAT  \n",
       "0   4.98  \n",
       "1   9.14  \n",
       "2   4.03  \n",
       "3   2.94  \n",
       "4   5.33  "
      ]
     },
     "execution_count": 72,
     "metadata": {},
     "output_type": "execute_result"
    }
   ],
   "source": [
    "bos_feature.head()"
   ]
  },
  {
   "cell_type": "code",
   "execution_count": 73,
   "metadata": {},
   "outputs": [
    {
     "data": {
      "text/plain": [
       "numpy.ndarray"
      ]
     },
     "execution_count": 73,
     "metadata": {},
     "output_type": "execute_result"
    }
   ],
   "source": [
    "# Now the target values \n",
    "log_prices = np.log(data.target)\n",
    "type(log_prices)"
   ]
  },
  {
   "cell_type": "code",
   "execution_count": 74,
   "metadata": {},
   "outputs": [
    {
     "name": "stdout",
     "output_type": "stream",
     "text": [
      "Shape of target values  (506,)  and shape of features (506, 11)\n"
     ]
    }
   ],
   "source": [
    "print(\"Shape of target values \",log_prices.shape,\" and shape of features\",bos_feature.shape)"
   ]
  },
  {
   "cell_type": "code",
   "execution_count": 75,
   "metadata": {},
   "outputs": [
    {
     "name": "stdout",
     "output_type": "stream",
     "text": [
      "(506, 1)\n"
     ]
    }
   ],
   "source": [
    "# Since the shape of target value array was 1D inorder to convert it to 2D we transformed it to a DataFrame \n",
    "target = pd.DataFrame(data=log_prices, columns=['PRICE'])\n",
    "print(target.shape)"
   ]
  },
  {
   "cell_type": "markdown",
   "metadata": {},
   "source": [
    "## Explanation \n",
    "\n",
    "Now in order to create a tool where we would be supplying custom data , we have to create an array and supply the data in the same format as it is there in the features . \n",
    "\n",
    "By training our model we will have the $\\theta$ values we just have to supply the values of the parameters that is NOX, CHAS , RM ...so on . They must be supplied in the same order as appearing in bos_feature . \n",
    "\n",
    "Since the prediction depends on this: $\\hat y$ = $\\theta_1.CRIM + \\theta_2.ZN + \\theta_3.CHAS....\\theta_{11}.LSTAT $ "
   ]
  },
  {
   "cell_type": "code",
   "execution_count": 76,
   "metadata": {},
   "outputs": [],
   "source": [
    "# Therefore in order to supply the data we need an array of the same shape as that of features .But one may ask\n",
    "# why (1, 11) whereas bos_features has (506, 11) that is because we only evaluate one set of values at a time .\n",
    "# 506 is the no. of rows , we need only 1 row of value at a time .\n",
    "\n",
    "property_stats = np.ndarray(shape=(1, 11))\n",
    "\n",
    "# Now we supply the values of the parameters .\n",
    "\n",
    "# we are here supplying the mean since the crime rate of an area is always not known incase it's known replace it\n",
    "# with that value .Here we use mean value for all parameters since we are just testing it .\n",
    "\n",
    "property_stats[0][0] = bos_feature['CRIM'].mean()   \n",
    "property_stats[0][0] = bos_feature['ZN'].mean()\n",
    "property_stats[0][0] = bos_feature['CHAS'].mean()\n",
    "\n",
    "# We can supply all of them at once rather than the above method .Since bos_features.mean() is a series object\n",
    "# which returns the mean value of all the features as a series object,it has an attribute .values() which gives  \n",
    "# us only the mean values of all properties .\n",
    "# We reshaped it coz our features has 11 columns whereas our bos_feature.mean().values had 0 columns but 11 rows\n",
    "# by reshaping we made it 1 row and 11 columns .\n",
    "\n",
    "property_stats = bos_feature.mean().values.reshape(1, 11)"
   ]
  },
  {
   "cell_type": "markdown",
   "metadata": {},
   "source": [
    "## What are we doing ?\n",
    "\n",
    "Now we just prepopulated our property_stats array with the mean values of their respective features , since it is not possible for a person to know the exact values of all the parameters . When a person is looking for a house and wants to know it's value he or she just has a handful of features whose values are known to them , say the no. of rooms or whether the house is near a river bed or not etc .\n",
    "\n",
    "We'll just overwrite the values provided by the person using our valuation tool with the mean values already present in property_stats array ."
   ]
  },
  {
   "cell_type": "code",
   "execution_count": 77,
   "metadata": {},
   "outputs": [
    {
     "data": {
      "text/plain": [
       "0.03516080084618688"
      ]
     },
     "execution_count": 77,
     "metadata": {},
     "output_type": "execute_result"
    }
   ],
   "source": [
    "# But at first we need the theta values , so we train our model .\n",
    "\n",
    "regr = LinearRegression().fit(bos_feature, target)\n",
    "fitted_vals = regr.predict(bos_feature)\n",
    "mse = mean_squared_error(fitted_vals, target)\n",
    "rmse = np.sqrt(mse)"
   ]
  },
  {
   "cell_type": "code",
   "execution_count": 78,
   "metadata": {},
   "outputs": [],
   "source": [
    "def get_log_estimates(nr_of_rooms, student_teacher_ratio, near_river_bed=False, high_confidence=False):\n",
    "    \n",
    "    # number of rooms provided by querent \n",
    "    property_stats[0][4] = nr_of_rooms \n",
    "    \n",
    "    # student teacher ratio by querent\n",
    "    property_stats[0][8] = student_teacher_ratio\n",
    "    \n",
    "    # whether or not the house is near a river \n",
    "    if near_river_bed:\n",
    "        property_stats[0][2] = 1\n",
    "    else:\n",
    "        property_stats[0][2] = 0\n",
    "    \n",
    "    # This is the price estimate . \n",
    "    log_esti = regr.predict(property_stats)[0][0]\n",
    "    \n",
    "    # if the high_confidence = False we use 68% distribution else 95% , that is 95% of the residual distribution \n",
    "    # which is 2 Standard Deviation on either side of the mean , whereas when it's 68% it is 1S.D on either side\n",
    "    # this is used to give a price range\n",
    "    \n",
    "    if high_confidence:\n",
    "        log_esti_hi = regr.predict(property_stats)[0][0] + 2*rmse\n",
    "        log_esti_low = regr.predict(property_stats)[0][0] - 2*rmse\n",
    "        interval = 95\n",
    "    else:\n",
    "        log_esti_hi = regr.predict(property_stats)[0][0] + 1*rmse\n",
    "        log_esti_low = regr.predict(property_stats)[0][0] - 1*rmse\n",
    "        interval = 68\n",
    "        \n",
    "    return log_esti, log_esti_hi, log_esti_low, interval "
   ]
  },
  {
   "cell_type": "code",
   "execution_count": 79,
   "metadata": {},
   "outputs": [],
   "source": [
    "# Test run of our function . \n",
    "\n",
    "log_esti, log_esti_hi, log_esti_low, interval = get_log_estimates(3, 20, True)"
   ]
  },
  {
   "cell_type": "markdown",
   "metadata": {},
   "source": [
    "### Now we need to modify it a little bit since the data used here is of 1970's and therefore the price that we get back is also corresponding to 1970's so we need to scale it up according to the current year - 2021"
   ]
  },
  {
   "cell_type": "code",
   "execution_count": 80,
   "metadata": {},
   "outputs": [],
   "source": [
    "median = np.median(boston_data['PRICE'])\n",
    "zillow_price_21 = 583.3                   # current median price according to a valuation website .\n",
    "scale_factor = zillow_price_21/median     "
   ]
  },
  {
   "cell_type": "code",
   "execution_count": 81,
   "metadata": {},
   "outputs": [],
   "source": [
    "def current_valuation(rm, ptrt, chas=False, hi_co=False):\n",
    "    '''\n",
    "        Estimate the price of a property in Boston.\n",
    "        \n",
    "        Parameters :\n",
    "        ------------------------------------------\n",
    "        rm : No. of rooms (Not optional)\n",
    "        ptrt : Student to teacher ratio (Not optional)\n",
    "        chas : dummy variable , whether or not house is near a river bed (Optional)\n",
    "        hi_co : Interval of normal distribution (Optional)\n",
    "        \n",
    "    '''\n",
    "    \n",
    "    if rm < 1 or ptrt < 1:\n",
    "        print('Unrealistic figures !!!')\n",
    "        return \n",
    "    \n",
    "    log_esti, log_esti_hi, log_esti_low, interval = get_log_estimates(rm, ptrt, near_river_bed=chas, \n",
    "                                                                      high_confidence=hi_co)\n",
    "    \n",
    "    log_esti = np.e**log_esti * 1000 * scale_factor\n",
    "    log_esti_hi = np.e**log_esti_hi * 1000 * scale_factor\n",
    "    log_esti_low = np.e**log_esti_low * 1000 * scale_factor\n",
    "    \n",
    "    rounded_esti = np.around(log_esti, -3)\n",
    "    rounded_esti_hi = np.around(log_esti_hi, -3)\n",
    "    rounded_esti_low = np.around(log_esti_low, -3)\n",
    "    \n",
    "    print(f'Current valuation of the property is: {rounded_esti}')\n",
    "    print(f'Property upper side range:{rounded_esti_hi}, lower side:{rounded_esti_low}')\n",
    "    "
   ]
  },
  {
   "cell_type": "code",
   "execution_count": 83,
   "metadata": {},
   "outputs": [
    {
     "name": "stdout",
     "output_type": "stream",
     "text": [
      "Unrealistic figures !!!\n"
     ]
    }
   ],
   "source": [
    "current_valuation(0, 30, True, True)"
   ]
  },
  {
   "cell_type": "code",
   "execution_count": null,
   "metadata": {},
   "outputs": [],
   "source": []
  },
  {
   "cell_type": "code",
   "execution_count": null,
   "metadata": {},
   "outputs": [],
   "source": []
  }
 ],
 "metadata": {
  "kernelspec": {
   "display_name": "Python 3",
   "language": "python",
   "name": "python3"
  },
  "language_info": {
   "codemirror_mode": {
    "name": "ipython",
    "version": 3
   },
   "file_extension": ".py",
   "mimetype": "text/x-python",
   "name": "python",
   "nbconvert_exporter": "python",
   "pygments_lexer": "ipython3",
   "version": "3.8.5"
  }
 },
 "nbformat": 4,
 "nbformat_minor": 4
}
